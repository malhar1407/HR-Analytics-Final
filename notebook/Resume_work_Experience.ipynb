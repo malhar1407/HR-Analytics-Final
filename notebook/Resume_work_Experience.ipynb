{
 "cells": [
  {
   "cell_type": "code",
   "execution_count": 20,
   "metadata": {},
   "outputs": [],
   "source": [
    "import fitz  # PyMuPDF\n",
    "import re"
   ]
  },
  {
   "cell_type": "code",
   "execution_count": 21,
   "metadata": {},
   "outputs": [],
   "source": [
    "\n",
    "# Function to remove phone numbers using regular expressions\n",
    "def remove_phone_numbers(text):\n",
    "    # Regular expression pattern to match phone numbers\n",
    "    phone_pattern = r'\\b(?:\\d{3}[-.\\s]|\\(\\d{3}\\)\\s*)\\d{3}[-.\\s]?\\d{4}\\b'\n",
    "    return re.sub(phone_pattern, '', text)\n"
   ]
  },
  {
   "cell_type": "code",
   "execution_count": 4,
   "metadata": {},
   "outputs": [],
   "source": [
    "\n",
    "# Function to extract dates using regular expressions\n",
    "def extract_dates(text):\n",
    "    # Regular expression pattern to match dates in various formats\n",
    "    date_patterns = [\n",
    "        r'\\b\\d{4}-\\d{2}-\\d{2}\\b',               # YYYY-MM-DD\n",
    "        r'\\b\\d{2}-\\d{2}-\\d{4}\\b',               # DD-MM-YYYY\n",
    "        r'\\b\\d{2}/\\d{2}/\\d{4}\\b',               # MM/DD/YYYY\n",
    "        r'\\b(?:\\w{3,9}) \\d{4}\\b',               # Month Year (e.g., January 2024)\n",
    "        r'\\b\\d{1,2}/\\d{4}\\b',                   # MM/YYYY\n",
    "        r'\\b\\d{4}\\b',                           # Year (e.g., 2024)\n",
    "        r'\\b(?:\\w{3,9}) \\d{1,2}, \\d{4}\\b',      # Month Day, Year (e.g., January 25, 2024)\n",
    "        r'\\b\\d{1,2}/\\d{1,2}/\\d{2}\\b',           # MM/DD/YY\n",
    "        r'\\b\\d{1,2}-\\d{1,2}-\\d{2}\\b',           # DD-MM-YY\n",
    "        r'\\b\\d{1,2}\\.\\d{1,2}\\.\\d{2}\\b',         # DD.MM.YY\n",
    "        r'\\b(?:\\w{3,9}), \\d{4}\\b',              # Month, Year (e.g., January, 2024)\n",
    "        # Add more patterns for other date formats as needed\n",
    "    ]\n",
    "    \n",
    "    dates = []\n",
    "    for pattern in date_patterns:\n",
    "        dates.extend(re.findall(pattern, text))\n",
    "    \n",
    "    return dates\n"
   ]
  },
  {
   "cell_type": "code",
   "execution_count": 5,
   "metadata": {},
   "outputs": [],
   "source": [
    "\n",
    "# Read PDF and extract text\n",
    "def read_pdf(pdf_path):\n",
    "    text = ''\n",
    "    with fitz.open(pdf_path) as doc:\n",
    "        for page_num in range(len(doc)):\n",
    "            page = doc.load_page(page_num)\n",
    "            text += page.get_text()\n",
    "    return text\n"
   ]
  },
  {
   "cell_type": "code",
   "execution_count": 6,
   "metadata": {},
   "outputs": [],
   "source": [
    "\n",
    "# Example usage\n",
    "def main():\n",
    "    # PDF path\n",
    "    pdf_path = r'D:\\HR-Analytics-Final\\src\\uploads\\Komal_Lamba_Resume.pdf'\n",
    "\n",
    "    # Read PDF and extract text\n",
    "    resume_text = read_pdf(pdf_path)\n",
    "\n",
    "    # Preprocessing: Remove phone numbers\n",
    "    cleaned_text = remove_phone_numbers(resume_text)\n",
    "\n",
    "    # Extract dates\n",
    "    dates = extract_dates(cleaned_text)\n",
    "    print(\"Extracted Dates:\", dates)\n"
   ]
  },
  {
   "cell_type": "code",
   "execution_count": 7,
   "metadata": {},
   "outputs": [
    {
     "name": "stdout",
     "output_type": "stream",
     "text": [
      "Extracted Dates: ['Jun 2021', 'Jun 2021', 'Jun 2021', 'Jul 2023', 'Sep 2023', '2021', '2019', '2021', '2014', '2018', '2012', '2014', '2023', '2021', '2021', '2021', '2023', '2023']\n"
     ]
    }
   ],
   "source": [
    "\n",
    "if __name__ == \"__main__\":\n",
    "    main()"
   ]
  },
  {
   "cell_type": "code",
   "execution_count": 22,
   "metadata": {},
   "outputs": [],
   "source": [
    "import fitz  # PyMuPDF\n",
    "import spacy\n",
    "from dateutil.parser import parse\n",
    "from datetime import datetime,  date\n"
   ]
  },
  {
   "cell_type": "code",
   "execution_count": 23,
   "metadata": {},
   "outputs": [],
   "source": [
    "# Load English NER model\n",
    "nlp = spacy.load(\"en_core_web_sm\")"
   ]
  },
  {
   "cell_type": "code",
   "execution_count": 24,
   "metadata": {},
   "outputs": [],
   "source": [
    "# Function to extract text from PDF using PyMuPDF\n",
    "def extract_text_from_pdf(pdf_file):\n",
    "    text = \"\"\n",
    "    with fitz.open(pdf_file) as pdf_document:\n",
    "        for page in pdf_document:\n",
    "            text += page.get_text()\n",
    "    return text"
   ]
  },
  {
   "cell_type": "code",
   "execution_count": 25,
   "metadata": {},
   "outputs": [],
   "source": [
    "# Function to extract date entities from text using spaCy NER\n",
    "def extract_date_entities(text):\n",
    "    # Process the resume text\n",
    "    doc = nlp(text)\n",
    "    # Extract date entities\n",
    "    date_entities = [ent.text for ent in doc.ents if ent.label_ == \"DATE\"]\n",
    "    # Filter out non-date entities\n",
    "    date_entities = [date for date in date_entities if len(date.split()) > 1]\n",
    "    return date_entities"
   ]
  },
  {
   "cell_type": "code",
   "execution_count": 38,
   "metadata": {},
   "outputs": [],
   "source": [
    "def parse_date(date_string):\n",
    "    current_indicators = [\"current\", \"present\", \"now\", \"ongoing\"]\n",
    "    for indicator in current_indicators:\n",
    "        if re.search(r'\\b' + re.escape(indicator) + r'\\b', date_string, re.IGNORECASE):\n",
    "            return date.today()"
   ]
  },
  {
   "cell_type": "code",
   "execution_count": 39,
   "metadata": {},
   "outputs": [],
   "source": [
    "# Function to extract date ranges from date entities\n",
    "def extract_date_ranges(date_entities):\n",
    "    date_ranges = []\n",
    "    for date_entity in date_entities:\n",
    "        try:\n",
    "            # Parse the date using custom function\n",
    "            parsed_date = parse_date(date_entity)\n",
    "            if parsed_date:\n",
    "                # Add parsed date to date ranges if not None\n",
    "                date_ranges.append(parsed_date)\n",
    "        except Exception as e:\n",
    "            print(f\"Error parsing date: {e}\")\n",
    "    # Sort the date ranges in ascending order\n",
    "    date_ranges.sort()\n",
    "    return date_ranges"
   ]
  },
  {
   "cell_type": "code",
   "execution_count": 40,
   "metadata": {},
   "outputs": [],
   "source": [
    "# Path to your PDF file\n",
    "pdf_file_path = r'D:\\HR-Analytics-Final\\src\\uploads\\Komal_Lamba_Resume.pdf'"
   ]
  },
  {
   "cell_type": "code",
   "execution_count": 41,
   "metadata": {},
   "outputs": [],
   "source": [
    "# Extract text from PDF\n",
    "resume_text = extract_text_from_pdf(pdf_file_path)\n",
    "\n",
    "# Extract date entities from resume text\n",
    "date_entities = extract_date_entities(resume_text)\n",
    "\n",
    "# Extract date ranges from date entities\n",
    "date_ranges = extract_date_ranges(date_entities)"
   ]
  },
  {
   "cell_type": "code",
   "execution_count": 42,
   "metadata": {},
   "outputs": [],
   "source": [
    "# Function to extract work experience date ranges\n",
    "def extract_work_experience(date_ranges):\n",
    "    work_experience = []\n",
    "    # Assuming work experience involves consecutive dates\n",
    "    for i in range(len(date_ranges) - 1):\n",
    "        start_date = date_ranges[i]\n",
    "        end_date = date_ranges[i + 1]\n",
    "        # Assuming work experience involves at least 1 year\n",
    "        if (end_date - start_date).days >= 365:\n",
    "            work_experience.append((start_date, end_date))\n",
    "    return work_experience"
   ]
  },
  {
   "cell_type": "code",
   "execution_count": 43,
   "metadata": {},
   "outputs": [],
   "source": [
    "# Extract work experience from date ranges\n",
    "work_experience = extract_work_experience(date_ranges)\n",
    "\n",
    "# Print extracted work experience\n",
    "for start_date, end_date in work_experience:\n",
    "    print(f\"Work Experience: {start_date} to {end_date}\")"
   ]
  },
  {
   "cell_type": "code",
   "execution_count": null,
   "metadata": {},
   "outputs": [],
   "source": []
  }
 ],
 "metadata": {
  "kernelspec": {
   "display_name": "Python 3",
   "language": "python",
   "name": "python3"
  },
  "language_info": {
   "codemirror_mode": {
    "name": "ipython",
    "version": 3
   },
   "file_extension": ".py",
   "mimetype": "text/x-python",
   "name": "python",
   "nbconvert_exporter": "python",
   "pygments_lexer": "ipython3",
   "version": "3.11.8"
  }
 },
 "nbformat": 4,
 "nbformat_minor": 2
}
