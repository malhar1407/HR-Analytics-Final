{
 "cells": [
  {
   "cell_type": "code",
   "execution_count": 14,
   "metadata": {},
   "outputs": [],
   "source": [
    "import fitz  # PyMuPDF\n",
    "import re\n",
    "from datetime import datetime\n"
   ]
  },
  {
   "cell_type": "code",
   "execution_count": 35,
   "metadata": {},
   "outputs": [
    {
     "name": "stdout",
     "output_type": "stream",
     "text": [
      "Experience category: Beginner\n"
     ]
    }
   ],
   "source": [
    "\n",
    "def remove_phone_numbers(text):\n",
    "    # Regular expression pattern to match phone numbers\n",
    "    phone_pattern = r'\\b(?:\\d{3}[-.\\s]|\\(\\d{3}\\)\\s*)\\d{3}[-.\\s]?\\d{4}\\b'\n",
    "    return re.sub(phone_pattern, '', text)\n",
    "\n",
    "def extract_work_experience(pdf_path):\n",
    "    # Open the PDF file\n",
    "    pdf_document = fitz.open(pdf_path)\n",
    "    text = \"\"\n",
    "\n",
    "    # Extract text from each page\n",
    "    for page_num in range(len(pdf_document)):\n",
    "        page = pdf_document.load_page(page_num)\n",
    "        text += page.get_text()\n",
    "\n",
    "        # Search for work experience section using multiple keywords\n",
    "        work_experience_keywords = ['Work Experience', 'Employment History', 'Professional Experience', 'Career History', 'Work History', 'Experience', 'Internships']\n",
    "        work_experience_section = re.search(r'(' + '|'.join(work_experience_keywords) + ')', text, re.IGNORECASE)\n",
    "\n",
    "        if work_experience_section:\n",
    "            work_experience_text = text[work_experience_section.start():]\n",
    "            \n",
    "            # Replace 'current' or 'present' with the current year\n",
    "            current_year = datetime.now().year\n",
    "            work_experience_text = re.sub(r'\\b(current|present)\\b', str(current_year), work_experience_text, flags=re.IGNORECASE)\n",
    "            \n",
    "            # Extract years and convert them to integers\n",
    "            years = [int(year[-4:]) for year in re.findall(r'\\b(?:\\d{2}/)?20\\d{2}\\b', work_experience_text)]\n",
    "            #print(years)\n",
    "\n",
    "            # Calculate years of experience\n",
    "            total_years = max(years) - min(years) if years else 0\n",
    "            return total_years\n",
    "\n",
    "    return 0\n",
    "\n",
    "def bin_years_of_experience(years):\n",
    "    if years <= 1:\n",
    "        return \"Fresher\"\n",
    "    elif 2 <= years <= 4:\n",
    "        return \"Beginner\"\n",
    "    elif 5 <= years <= 9:\n",
    "        return \"Mid-level\"\n",
    "    else:\n",
    "        return \"Experienced\"\n",
    "\n",
    "# Example usage\n",
    "pdf_path = r\"D:\\HR-Analytics-Final\\src\\uploads\\Komal_Lamba_Resume.pdf\"\n",
    "years_of_experience = extract_work_experience(pdf_path)\n",
    "experience_category = bin_years_of_experience(years_of_experience)\n",
    "#print(\"Years of work experience:\", years_of_experience)\n",
    "print(\"Experience category:\", experience_category)\n"
   ]
  },
  {
   "cell_type": "code",
   "execution_count": null,
   "metadata": {},
   "outputs": [],
   "source": []
  }
 ],
 "metadata": {
  "kernelspec": {
   "display_name": "Python 3",
   "language": "python",
   "name": "python3"
  },
  "language_info": {
   "codemirror_mode": {
    "name": "ipython",
    "version": 3
   },
   "file_extension": ".py",
   "mimetype": "text/x-python",
   "name": "python",
   "nbconvert_exporter": "python",
   "pygments_lexer": "ipython3",
   "version": "3.11.8"
  }
 },
 "nbformat": 4,
 "nbformat_minor": 2
}
