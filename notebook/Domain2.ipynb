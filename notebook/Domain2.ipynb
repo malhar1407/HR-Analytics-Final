{
 "cells": [
  {
   "cell_type": "code",
   "execution_count": 1,
   "metadata": {},
   "outputs": [],
   "source": [
    "import pandas as pd\n",
    "import os\n",
    "import fitz\n",
    "from sklearn.feature_extraction.text import TfidfVectorizer\n",
    "from sklearn.decomposition import LatentDirichletAllocation\n",
    "import nltk\n",
    "from nltk.corpus import stopwords\n",
    "import re\n",
    "from nltk.stem import WordNetLemmatizer\n",
    "from nltk.tokenize import word_tokenize"
   ]
  },
  {
   "cell_type": "code",
   "execution_count": 2,
   "metadata": {},
   "outputs": [],
   "source": [
    "file_path = r\"D:\\Resume\\java-developer-resume-sample-output.pdf\""
   ]
  },
  {
   "cell_type": "code",
   "execution_count": 3,
   "metadata": {},
   "outputs": [],
   "source": [
    "def extract_text_from_pdf(pdf_file):\n",
    "    doc = fitz.open(pdf_file)\n",
    "    text = \"\"\n",
    "    for page in doc:\n",
    "        text += page.get_text()\n",
    "    return text.lower() \n"
   ]
  },
  {
   "cell_type": "code",
   "execution_count": 4,
   "metadata": {},
   "outputs": [
    {
     "name": "stdout",
     "output_type": "stream",
     "text": [
      "maria hibisson\n",
      "maria@novoresume.com @\n",
      "0123 456 789\n",
      "linkedin.com/in/maria.hibisson fn\n",
      "gilhub.com/maria.hibisson\n",
      "maria.hibisson ! '\n",
      "highly experienced, solutions-oriented professional with1 0+ years of remarkable background in overseeing all aspects of the software\n",
      "development life cycle, from extensive analysis and design through execution and maintenance. proficient in utilizinga wide variety of\n",
      "programs and tools to provide high-quality and cost-effective applications/systems to boost organizational efficiency and productivity.\n",
      "possess unmatched coding and testing skills to deliver client/business-specific programs.\n",
      "areasofexpertse\n",
      "*‹’r z'\n",
      "i\n",
      "m s-‹\n",
      "p’\n",
      "0\n",
      "s'*“0\n",
      "-›\n",
      "e\n",
      "workexperence\n",
      "utilize java, enterprise java bean, java ee,and apache struts web applications to develop fully automated client management\n",
      "systems forthe efficient maintenance ofclient accounts.\n",
      "— enforce an innovative approach toimprove the client's web\n",
      "reporting system, which effectively reduced the financial tracking\n",
      "analysis time by 50%.\n",
      "- supervise and leada team of\n",
      "1 0+juniorjava developers toascertain the successful completion of the 13 key projects of the\n",
      "company within budget and schedule.\n",
      "collaborate closely with the management, vendors, and associated third parties to guarantee the full functionality and\n",
      "performance ofthewebsite financial transactions and database management applications.\n",
      "oversee all phases of thedevelopment ofthenew java-based vendor application system forthe financial services industry,\n",
      "from conceptualization and design to progress and deployment.\n",
      "took part in the scheduled development meeting torecommend relevant system modifications and project improvements.\n",
      "spearheaded thesoftware product definition, requirements, analysis, and implementation forthe new project designs.\n",
      "innovated the phone devices by deployinga system lhal integrated navigation, text messaging, and music playback viaan easy-\n",
      "to-use and low cognitive load interface that is controlled by voice commands.\n",
      "aided in overseeing the transition of the commerceapitomicroservices that are running ona dockerized platform and ecs\n",
      "through otheramazon web services (aws) such as dynamo, sqs, and elasticache redis.\n",
      "coordinated with the experienced sytems engineer and other professionals in the team in migrating the cost-efficient service\n",
      "that successfully reduced theoperating costs by over 70% upon running the newly migrated service.\n",
      "provided expert support in developing and implementing effective technical solutions that enhanced thesystem's performance\n",
      "and subsequently boosted business efficiency.\n",
      "novoresume.com\n",
      "page1 of2\n",
      "\n"
     ]
    }
   ],
   "source": [
    "text = extract_text_from_pdf(file_path)\n",
    "print(text)"
   ]
  },
  {
   "cell_type": "markdown",
   "metadata": {},
   "source": [
    "## Cleaning Data"
   ]
  },
  {
   "cell_type": "code",
   "execution_count": 5,
   "metadata": {},
   "outputs": [],
   "source": [
    "# Cleaning the Data\n",
    "stop_words = set(stopwords.words('english'))\n",
    "def clean_text(sentence):\n",
    "\n",
    "    # Cleaning white spaces\n",
    "    sentence = re.sub(r\"\\s+\", \" \", sentence).strip()\n",
    "\n",
    "    # Removing URLS\n",
    "    sentence = re.sub(r\"https?://\\S+|www\\.\\S+\",\" \",sentence)\n",
    "    \n",
    "    # Removing html tags\n",
    "    sentence = re.sub(r\"<.*?>|&([a-z0-9]+|#[0-9]{1,6}|#x[0-9a-f]{1,6});\",\" \",sentence)\n",
    "\n",
    "    # Removing phone numbers\n",
    "    sentence = re.sub(r\"\\b(?:\\d{3}[-.\\s]??\\d{3}[-.\\s]??\\d{4}|\\(\\d{3}\\)\\s*\\d{3}[-.\\s]??\\d{4}|\\d{3}[-.\\s]??\\d{4})\\b\", \" \", sentence)\n",
    "    \n",
    "    # Removing emails\n",
    "    sentence = re.sub(r\"\\b[A-Za-z0-9._%+-]+@[A-Za-z0-9.-]+\\.[A-Z|a-z]{2,}\\b\", \" \", sentence)\n",
    "\n",
    "    # Keeping only alphanumeric values\n",
    "    sentence = re.sub(r\"[^a-zA-Z\\s]\", \" \", sentence)\n",
    "    \n",
    "    \n",
    "    # Cleaning .com\n",
    "    sentence = re.sub(r\"\\.com\",\" \",sentence)\n",
    "        \n",
    "    sentence = sentence.lower()\n",
    "\n",
    "    #Removing Stop Words\n",
    "    tokens = \"\"\n",
    "    for token in sentence.split():\n",
    "        if token not in stop_words:\n",
    "            tokens=tokens+\" \"+token\n",
    "\n",
    "    return tokens"
   ]
  },
  {
   "cell_type": "code",
   "execution_count": 6,
   "metadata": {},
   "outputs": [],
   "source": [
    "clean_text = clean_text(text)"
   ]
  },
  {
   "cell_type": "code",
   "execution_count": 7,
   "metadata": {},
   "outputs": [
    {
     "name": "stdout",
     "output_type": "stream",
     "text": [
      " maria hibisson linkedin com maria hibisson fn gilhub com maria hibisson maria hibisson highly experienced solutions oriented professional years remarkable background overseeing aspects software development life cycle extensive analysis design execution maintenance proficient utilizinga wide variety programs tools provide high quality cost effective applications systems boost organizational efficiency productivity possess unmatched coding testing skills deliver client business specific programs areasofexpertse r z p e workexperence utilize java enterprise java bean java ee apache struts web applications develop fully automated client management systems forthe efficient maintenance ofclient accounts enforce innovative approach toimprove client web reporting system effectively reduced financial tracking analysis time supervise leada team juniorjava developers toascertain successful completion key projects company within budget schedule collaborate closely management vendors associated third parties guarantee full functionality performance ofthewebsite financial transactions database management applications oversee phases thedevelopment ofthenew java based vendor application system forthe financial services industry conceptualization design progress deployment took part scheduled development meeting torecommend relevant system modifications project improvements spearheaded thesoftware product definition requirements analysis implementation forthe new project designs innovated phone devices deployinga system lhal integrated navigation text messaging music playback viaan easy use low cognitive load interface controlled voice commands aided overseeing transition commerceapitomicroservices running ona dockerized platform ecs otheramazon web services aws dynamo sqs elasticache redis coordinated experienced sytems engineer professionals team migrating cost efficient service successfully reduced theoperating costs upon running newly migrated service provided expert support developing implementing effective technical solutions enhanced thesystem performance subsequently boosted business efficiency novoresume com page\n"
     ]
    }
   ],
   "source": [
    "print(clean_text)"
   ]
  },
  {
   "cell_type": "markdown",
   "metadata": {},
   "source": [
    "## Lemmatization"
   ]
  },
  {
   "cell_type": "code",
   "execution_count": 8,
   "metadata": {},
   "outputs": [
    {
     "name": "stdout",
     "output_type": "stream",
     "text": [
      "maria hibisson linkedin com maria hibisson fn gilhub com maria hibisson maria hibisson highly experienced solution oriented professional year remarkable background overseeing aspect software development life cycle extensive analysis design execution maintenance proficient utilizinga wide variety program tool provide high quality cost effective application system boost organizational efficiency productivity posse unmatched coding testing skill deliver client business specific program areasofexpertse r z p e workexperence utilize java enterprise java bean java ee apache strut web application develop fully automated client management system forthe efficient maintenance ofclient account enforce innovative approach toimprove client web reporting system effectively reduced financial tracking analysis time supervise leada team juniorjava developer toascertain successful completion key project company within budget schedule collaborate closely management vendor associated third party guarantee full functionality performance ofthewebsite financial transaction database management application oversee phase thedevelopment ofthenew java based vendor application system forthe financial service industry conceptualization design progress deployment took part scheduled development meeting torecommend relevant system modification project improvement spearheaded thesoftware product definition requirement analysis implementation forthe new project design innovated phone device deployinga system lhal integrated navigation text messaging music playback viaan easy use low cognitive load interface controlled voice command aided overseeing transition commerceapitomicroservices running ona dockerized platform ec otheramazon web service aws dynamo sqs elasticache redis coordinated experienced sytems engineer professional team migrating cost efficient service successfully reduced theoperating cost upon running newly migrated service provided expert support developing implementing effective technical solution enhanced thesystem performance subsequently boosted business efficiency novoresume com page\n"
     ]
    }
   ],
   "source": [
    "lemmatizer = WordNetLemmatizer()\n",
    "def lemmatize_text(text):\n",
    "    lemmatized_tokens = []\n",
    "    for token in text.split():\n",
    "        lemmatized_token = lemmatizer.lemmatize(token)\n",
    "        lemmatized_tokens.append(lemmatized_token)\n",
    "    return ' '.join(lemmatized_tokens)\n",
    "lemmatized_text = lemmatize_text(clean_text)\n",
    "print(lemmatized_text)"
   ]
  },
  {
   "cell_type": "markdown",
   "metadata": {},
   "source": [
    "## Tokenization"
   ]
  },
  {
   "cell_type": "code",
   "execution_count": 9,
   "metadata": {},
   "outputs": [],
   "source": [
    "def tokenize(text):\n",
    "    return word_tokenize(text)\n",
    "tokenized_text = tokenize(lemmatized_text)"
   ]
  },
  {
   "cell_type": "code",
   "execution_count": 10,
   "metadata": {},
   "outputs": [],
   "source": [
    "tagged = nltk.pos_tag(tokenized_text)"
   ]
  },
  {
   "cell_type": "code",
   "execution_count": 11,
   "metadata": {},
   "outputs": [],
   "source": [
    "noun_tags = ['NN', 'NNS', 'NNP', 'NNPS']\n",
    "verb_tags = ['VB', 'VBD', 'VBG', 'VBN', 'VBP', 'VBZ']\n",
    "nouns = [word for word, tag in tagged if tag in noun_tags]\n",
    "verbs = [word for word, tag in tagged if tag in verb_tags]"
   ]
  },
  {
   "cell_type": "code",
   "execution_count": 12,
   "metadata": {},
   "outputs": [
    {
     "name": "stdout",
     "output_type": "stream",
     "text": [
      "['maria', 'com', 'maria', 'gilhub', 'com', 'maria', 'hibisson', 'maria', 'solution', 'year', 'background', 'software', 'development', 'life', 'cycle', 'analysis', 'design', 'execution', 'maintenance', 'variety', 'program', 'tool', 'quality', 'cost', 'application', 'system', 'efficiency', 'productivity', 'posse', 'skill', 'client', 'business', 'program', 'areasofexpertse', 'r', 'z', 'p', 'e', 'workexperence', 'java', 'enterprise', 'java', 'java', 'ee', 'apache', 'strut', 'web', 'application', 'client', 'management', 'system', 'maintenance', 'ofclient', 'account', 'enforce', 'approach', 'client', 'system', 'analysis', 'time', 'supervise', 'leada', 'team', 'juniorjava', 'developer', 'toascertain', 'completion', 'key', 'project', 'company', 'budget', 'schedule', 'collaborate', 'management', 'vendor', 'party', 'guarantee', 'functionality', 'performance', 'transaction', 'database', 'management', 'application', 'ofthenew', 'java', 'vendor', 'application', 'system', 'service', 'industry', 'conceptualization', 'design', 'progress', 'deployment', 'part', 'development', 'system', 'modification', 'project', 'improvement', 'product', 'definition', 'requirement', 'analysis', 'implementation', 'project', 'design', 'phone', 'device', 'deployinga', 'system', 'navigation', 'music', 'playback', 'viaan', 'use', 'load', 'interface', 'voice', 'command', 'transition', 'commerceapitomicroservices', 'platform', 'ec', 'otheramazon', 'web', 'service', 'sqs', 'elasticache', 'redis', 'sytems', 'team', 'cost', 'service', 'cost', 'service', 'support', 'solution', 'performance', 'business', 'efficiency', 'page']\n",
      "['hibisson', 'hibisson', 'hibisson', 'oriented', 'overseeing', 'provide', 'boost', 'unmatched', 'coding', 'testing', 'deliver', 'develop', 'automated', 'toimprove', 'reporting', 'reduced', 'tracking', 'associated', 'based', 'took', 'scheduled', 'meeting', 'torecommend', 'spearheaded', 'forthe', 'innovated', 'integrated', 'messaging', 'controlled', 'aided', 'overseeing', 'running', 'dockerized', 'aws', 'coordinated', 'engineer', 'migrating', 'reduced', 'theoperating', 'running', 'migrated', 'provided', 'developing', 'implementing', 'enhanced', 'boosted']\n"
     ]
    }
   ],
   "source": [
    "print(nouns)\n",
    "print(verbs)"
   ]
  },
  {
   "cell_type": "markdown",
   "metadata": {},
   "source": [
    "## TF-IDF Vectorization"
   ]
  },
  {
   "cell_type": "code",
   "execution_count": 17,
   "metadata": {},
   "outputs": [],
   "source": [
    "vectorizer = TfidfVectorizer()\n",
    "X = vectorizer.fit_transform(nouns)\n",
    "\n",
    "# Setting topics to 3\n",
    "lda = LatentDirichletAllocation(n_components=3)"
   ]
  },
  {
   "cell_type": "code",
   "execution_count": 18,
   "metadata": {},
   "outputs": [
    {
     "name": "stdout",
     "output_type": "stream",
     "text": [
      "[[0.33589041 0.3358562  0.3361421  0.33581753 0.33589113 0.33614205\n",
      "  0.33589039 0.33589039 2.32854536 0.33563642 0.33589042 0.33570416\n",
      "  1.32816745 0.3358904  1.3281675  0.3358904  0.33589039 0.33585621\n",
      "  0.33614207 0.33589039 0.33614206 1.32816748 0.3358904  3.32868262\n",
      "  0.33614204 2.32854535 0.33589041 0.33589038 1.32816749 2.32854531\n",
      "  0.33614207 1.32816748 1.32816748 0.33614205 0.33589041 1.32816748\n",
      "  1.32816749 0.33614203 0.33614203 0.33614205 0.33589041 0.33614205\n",
      "  4.32875277 0.33614204 0.33614206 0.33614205 0.33614207 0.33589039\n",
      "  2.3285453  0.3358562  4.32875277 0.33589043 1.32816748 1.32816742\n",
      "  1.32816744 0.33614209 0.33614207 0.33614204 1.3281675  1.32816741\n",
      "  2.32854535 0.3358904  0.33614205 0.33614205 1.32816747 0.33589043\n",
      "  0.33614207 0.3359321  1.3281675  0.33585621 1.32816746 0.33589039\n",
      "  0.33589044 1.32816749 0.33560181 0.33614208 0.33589039 2.32854545\n",
      "  1.32816748 0.33614203 0.33589043 1.32816744 0.33556679 1.32816747\n",
      "  0.33570426 0.33589041 0.33614204 0.33614205 0.3358904  0.33614208\n",
      "  1.32816747 0.33589043 0.33593205 0.33589039 1.32816749 0.33593206\n",
      "  0.33614205 0.33614202]\n",
      " [1.32838029 0.33592531 0.33622089 0.33588538 1.328379   0.33622084\n",
      "  1.32838031 1.32838031 0.33583647 3.32886941 1.32838028 2.32873884\n",
      "  0.33603596 1.32838031 0.33603593 1.32838031 1.32838032 0.33592531\n",
      "  0.33622088 1.32838032 0.33622084 0.33603594 1.3283803  0.33576416\n",
      "  0.33622083 0.33583646 1.32838027 1.32838033 0.33603593 0.33583649\n",
      "  0.33622086 0.33603594 0.33603594 0.33622087 1.32838028 0.33603594\n",
      "  0.33603593 0.33622083 0.33622083 0.33622084 1.32838029 0.33622083\n",
      "  0.33572724 0.33622084 0.33622085 0.33622085 0.33622087 1.32838031\n",
      "  0.3358365  0.3359253  0.33572724 1.32838025 0.33603593 0.33603596\n",
      "  0.33603595 0.3362209  0.33622087 0.33622084 0.33603592 0.33603597\n",
      "  0.33583646 1.3283803  0.33622085 0.33622086 0.33603594 1.32838025\n",
      "  0.33622088 0.33600367 0.33603592 0.33592531 0.33603594 1.32838032\n",
      "  1.32838024 0.33603593 4.32893618 0.3362209  1.32838033 0.33583641\n",
      "  0.33603593 0.33622083 1.32838026 0.33603596 6.32900376 0.33603595\n",
      "  2.32873866 1.32838029 0.33622084 0.33622084 1.32838031 0.33622086\n",
      "  0.33603594 1.32838026 0.33600363 1.32838031 0.33603593 0.33600364\n",
      "  0.33622086 0.33622082]\n",
      " [0.3357293  3.32821849 1.327637   4.32829709 0.33572987 1.32763711\n",
      "  0.3357293  0.3357293  0.33561817 0.33549416 0.3357293  0.335557\n",
      "  0.33579659 0.33572929 0.33579658 0.33572929 0.33572929 3.32821849\n",
      "  1.32763705 0.33572929 1.3276371  0.33579658 0.3357293  0.33555322\n",
      "  1.32763714 0.33561819 0.33572931 0.33572928 0.33579658 0.33561819\n",
      "  1.32763707 0.33579659 0.33579658 1.32763708 0.33572931 0.33579658\n",
      "  0.33579658 1.32763714 1.32763714 1.32763711 0.3357293  1.32763712\n",
      "  0.33551999 1.32763713 1.32763709 1.3276371  1.32763707 0.33572929\n",
      "  0.3356182  3.3282185  0.33551999 0.33572932 0.33579659 0.33579661\n",
      "  0.3357966  1.32763701 1.32763707 1.32763711 0.33579657 0.33579661\n",
      "  0.33561819 0.3357293  1.3276371  1.32763709 0.33579659 0.33572932\n",
      "  1.32763705 2.32806423 0.33579658 3.32821848 0.33579659 0.33572929\n",
      "  0.33572932 0.33579658 0.33546201 1.32763702 0.33572929 0.33561814\n",
      "  0.33579658 1.32763714 0.33572932 0.33579659 0.33542945 0.33579658\n",
      "  0.33555708 0.33572931 1.32763712 1.32763711 0.3357293  1.32763706\n",
      "  0.33579659 0.33572931 2.32806432 0.3357293  0.33579658 2.3280643\n",
      "  1.32763709 1.32763717]]\n"
     ]
    }
   ],
   "source": [
    "lda.fit(X)\n",
    "print(lda.components_)"
   ]
  },
  {
   "cell_type": "markdown",
   "metadata": {},
   "source": [
    "## Topics and Associated Words"
   ]
  },
  {
   "cell_type": "code",
   "execution_count": 20,
   "metadata": {},
   "outputs": [
    {
     "name": "stdout",
     "output_type": "stream",
     "text": [
      "Topic 1: \n",
      "java\n",
      "\n",
      "Topic 2: \n",
      "system\n",
      "\n",
      "Topic 3: \n",
      "application\n",
      "\n"
     ]
    }
   ],
   "source": [
    "for idx, topic in enumerate(lda.components_):\n",
    "    print(f\"Topic {idx + 1}: \")\n",
    "    #Get top 5 words with highest weights for the topic\n",
    "    top_words_idx = topic.argsort()[-1:][::-1]\n",
    "    top_words = [vectorizer.get_feature_names_out()[i] for i in top_words_idx]\n",
    "    print(\", \".join(top_words))\n",
    "    print()"
   ]
  }
 ],
 "metadata": {
  "kernelspec": {
   "display_name": "Python 3",
   "language": "python",
   "name": "python3"
  },
  "language_info": {
   "codemirror_mode": {
    "name": "ipython",
    "version": 3
   },
   "file_extension": ".py",
   "mimetype": "text/x-python",
   "name": "python",
   "nbconvert_exporter": "python",
   "pygments_lexer": "ipython3",
   "version": "3.11.8"
  }
 },
 "nbformat": 4,
 "nbformat_minor": 2
}
