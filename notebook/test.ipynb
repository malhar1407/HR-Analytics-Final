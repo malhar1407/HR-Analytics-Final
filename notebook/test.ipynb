{
 "cells": [
  {
   "cell_type": "code",
   "execution_count": 4,
   "metadata": {},
   "outputs": [
    {
     "name": "stdout",
     "output_type": "stream",
     "text": [
      "Predicted Domain: ['DevOps Engineer']\n"
     ]
    }
   ],
   "source": [
    "import fitz\n",
    "import re\n",
    "import string\n",
    "import nltk\n",
    "from nltk.corpus import stopwords\n",
    "from nltk.tokenize import word_tokenize\n",
    "from nltk.stem import WordNetLemmatizer\n",
    "from sklearn.pipeline import Pipeline\n",
    "from sklearn.feature_extraction.text import TfidfVectorizer\n",
    "from sklearn.decomposition import NMF\n",
    "import joblib\n",
    "\n",
    "# Function for text preprocessing\n",
    "stop_words = set(stopwords.words('english'))\n",
    "lemmatizer = WordNetLemmatizer()\n",
    "\n",
    "def preprocess_text(text):\n",
    "    text = text.lower()\n",
    "    text = re.sub(r\"\\s+\", \" \", text).strip()\n",
    "    text = re.sub(r\"https?://\\S+|www\\.\\S+\", \" \", text)\n",
    "    text = re.sub(r\"<.*?>|&([a-z0-9]+|#[0-9]{1,6}|#x[0-9a-f]{1,6});\", \" \", text)\n",
    "    text = re.sub(r\"\\b(?:\\d{3}[-.\\s]??\\d{3}[-.\\s]??\\d{4}|\\(\\d{3}\\)\\s*\\d{3}[-.\\s]??\\d{4}|\\d{3}[-.\\s]??\\d{4})\\b\", \" \", text)\n",
    "    text = text.translate(str.maketrans('', '', string.punctuation))\n",
    "    text = re.sub(r\"\\b[A-Za-z0-9._%+-]+@[A-Za-z0-9.-]+\\.[A-Z|a-z]{2,}\\b\", \" \", text)\n",
    "    text = re.sub(r\"[^a-zA-Z\\s]\", \" \", text)\n",
    "    tokens = word_tokenize(text)\n",
    "    tokens = [word for word in tokens if word not in stop_words]\n",
    "    tokens = [lemmatizer.lemmatize(word) for word in tokens]\n",
    "    preprocessed_text = ' '.join(tokens)\n",
    "    return preprocessed_text\n",
    "\n",
    "# Define the NMF pipeline\n",
    "tfidf_vectorizer = TfidfVectorizer()\n",
    "nmf_model = NMF(n_components=100)\n",
    "pipeline = Pipeline([\n",
    "    ('tfidf', tfidf_vectorizer),\n",
    "    ('nmf', nmf_model)\n",
    "])\n",
    "\n",
    "# Load the fitted TF-IDF vectorizer\n",
    "tfidf_vectorizer = joblib.load(r'D:\\HR-Analytics-Final\\models\\tfidf_vectorizer.pkl')\n",
    "\n",
    "# Load the trained NMF model\n",
    "nmf_model = joblib.load(r'D:\\HR-Analytics-Final\\models\\nmf_model.pkl')\n",
    "\n",
    "# Load the label encoder used during model training\n",
    "label_encoder = joblib.load(r'D:\\HR-Analytics-Final\\models\\label_encoder.pkl')  # Load your label encoder object\n",
    "\n",
    "# Load the trained model\n",
    "loaded_model = joblib.load(r'D:\\HR-Analytics-Final\\models\\random_forest_model.pkl')\n",
    "\n",
    "# Function to extract text from PDF\n",
    "def extract_text_from_pdf(pdf_path):\n",
    "    text = ''\n",
    "    with fitz.open(pdf_path) as doc:\n",
    "        for page in doc:\n",
    "            text += page.get_text()\n",
    "    return text\n",
    "\n",
    "# Path to the PDF file\n",
    "pdf_path = r'D:\\HR-Analytics-Final\\src\\uploads\\java-developer-resume-sample-output[79].pdf'\n",
    "\n",
    "# Extract text from the PDF\n",
    "pdf_text = extract_text_from_pdf(pdf_path)\n",
    "\n",
    "# Preprocess the extracted text\n",
    "preprocessed_pdf_text = preprocess_text(pdf_text)\n",
    "\n",
    "# Transform using the fitted TF-IDF vectorizer\n",
    "pdf_embeddings = tfidf_vectorizer.transform([preprocessed_pdf_text])\n",
    "\n",
    "# Transform using the trained NMF model\n",
    "pdf_embeddings = nmf_model.transform(pdf_embeddings)\n",
    "\n",
    "# Make prediction using the loaded model\n",
    "predicted_domain_number = loaded_model.predict(pdf_embeddings)\n",
    "\n",
    "# Convert the predicted domain number to domain name\n",
    "predicted_domain_name = label_encoder.inverse_transform(predicted_domain_number)\n",
    "\n",
    "print(\"Predicted Domain:\", predicted_domain_name)\n"
   ]
  },
  {
   "cell_type": "code",
   "execution_count": null,
   "metadata": {},
   "outputs": [],
   "source": []
  }
 ],
 "metadata": {
  "kernelspec": {
   "display_name": "Python 3",
   "language": "python",
   "name": "python3"
  },
  "language_info": {
   "codemirror_mode": {
    "name": "ipython",
    "version": 3
   },
   "file_extension": ".py",
   "mimetype": "text/x-python",
   "name": "python",
   "nbconvert_exporter": "python",
   "pygments_lexer": "ipython3",
   "version": "3.11.8"
  }
 },
 "nbformat": 4,
 "nbformat_minor": 2
}
